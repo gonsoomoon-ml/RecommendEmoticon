{
 "cells": [
  {
   "cell_type": "markdown",
   "metadata": {},
   "source": [
    "## S3 Bucket 생성 및 설정\n",
    "\n",
    "아래 노트북은 원본 노트북의 설명을 추가 하였습니다.\n",
    "- 실제 실행시에 여기의 셀의 \"결과 값\" 과 일치하는지를 확인하면서 실행 하십시오.\n",
    "- 만일 에러등이 발생하면 확인하시고 다시 실행 해야 합니다.\n",
    "    - https://github.com/data-science-on-aws/workshop/blob/master/12_kubeflow/00_02_Create_S3_Bucket.ipynb"
   ]
  },
  {
   "cell_type": "markdown",
   "metadata": {},
   "source": [
    "# 1. Create S3 Bucket (If Not Already Created)\n"
   ]
  },
  {
   "cell_type": "code",
   "execution_count": 2,
   "metadata": {},
   "outputs": [
    {
     "name": "stdout",
     "output_type": "stream",
     "text": [
      "export S3_BUCKET=sagemaker-us-east-1-079636235537\n",
      "Completed\n"
     ]
    }
   ],
   "source": [
    "%%bash\n",
    "\n",
    "export S3_BUCKET=sagemaker-$(aws configure get region)-$(aws sts get-caller-identity | jq -r '.Account')\n",
    "echo \"export S3_BUCKET=${S3_BUCKET}\" | tee -a ~/.bash_profile\n",
    "\n",
    "# Create a new S3 bucket and upload the dataset. \n",
    "aws s3 ls s3://$S3_BUCKET || aws s3 mb s3://${S3_BUCKET}\n",
    "\n",
    "echo \"Completed\"\n"
   ]
  },
  {
   "cell_type": "markdown",
   "metadata": {},
   "source": [
    "# 2. Verify S3_BUCKET Env Variable"
   ]
  },
  {
   "cell_type": "code",
   "execution_count": 3,
   "metadata": {},
   "outputs": [
    {
     "name": "stdout",
     "output_type": "stream",
     "text": [
      "sagemaker-us-east-1-079636235537\n"
     ]
    }
   ],
   "source": [
    "%%bash\n",
    "\n",
    "source ~/.bash_profile\n",
    "\n",
    "echo \"${S3_BUCKET}\"\n"
   ]
  },
  {
   "cell_type": "markdown",
   "metadata": {},
   "source": [
    "# 3. Verify S3_BUCKET Bucket Creation"
   ]
  },
  {
   "cell_type": "code",
   "execution_count": 4,
   "metadata": {},
   "outputs": [],
   "source": [
    "%%bash\n",
    "\n",
    "source ~/.bash_profile\n",
    "\n",
    "aws s3 ls s3://${S3_BUCKET}\n"
   ]
  },
  {
   "cell_type": "code",
   "execution_count": 5,
   "metadata": {},
   "outputs": [
    {
     "name": "stdout",
     "output_type": "stream",
     "text": [
      "2021-04-04 12:57:59 sagemaker-studio-079636235537-q70y7owvkyo\n",
      "2021-04-04 13:58:54 sagemaker-us-east-1-079636235537\n"
     ]
    }
   ],
   "source": [
    "! aws s3 ls s3://${S3_BUCKET}"
   ]
  },
  {
   "cell_type": "code",
   "execution_count": null,
   "metadata": {},
   "outputs": [],
   "source": []
  }
 ],
 "metadata": {
  "kernelspec": {
   "display_name": "conda_python3",
   "language": "python",
   "name": "conda_python3"
  },
  "language_info": {
   "codemirror_mode": {
    "name": "ipython",
    "version": 3
   },
   "file_extension": ".py",
   "mimetype": "text/x-python",
   "name": "python",
   "nbconvert_exporter": "python",
   "pygments_lexer": "ipython3",
   "version": "3.6.13"
  }
 },
 "nbformat": 4,
 "nbformat_minor": 4
}
