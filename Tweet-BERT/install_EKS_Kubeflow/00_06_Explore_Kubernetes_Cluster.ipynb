{
 "cells": [
  {
   "cell_type": "markdown",
   "metadata": {},
   "source": [
    "# `kubectl` Kubernetes CLI"
   ]
  },
  {
   "cell_type": "code",
   "execution_count": 1,
   "metadata": {},
   "outputs": [
    {
     "name": "stdout",
     "output_type": "stream",
     "text": [
      "NAME              STATUS   AGE\n",
      "anonymous         Active   5m51s\n",
      "cert-manager      Active   11m\n",
      "default           Active   26m\n",
      "istio-system      Active   11m\n",
      "knative-serving   Active   10m\n",
      "kube-node-lease   Active   26m\n",
      "kube-public       Active   26m\n",
      "kube-system       Active   26m\n",
      "kubeflow          Active   11m\n"
     ]
    }
   ],
   "source": [
    "!kubectl get namespaces"
   ]
  },
  {
   "cell_type": "code",
   "execution_count": 2,
   "metadata": {},
   "outputs": [
    {
     "name": "stdout",
     "output_type": "stream",
     "text": [
      "NAME         READY   STATUS    RESTARTS   AGE\n",
      "notebook-0   2/2     Running   0          2m14s\n"
     ]
    }
   ],
   "source": [
    "!kubectl get pods --namespace anonymous"
   ]
  },
  {
   "cell_type": "code",
   "execution_count": 3,
   "metadata": {},
   "outputs": [
    {
     "name": "stdout",
     "output_type": "stream",
     "text": [
      "[I 14:11:51.780 NotebookApp] Writing notebook server cookie secret to /root/.local/share/jupyter/runtime/notebook_cookie_secret\n",
      "[W 14:11:52.339 NotebookApp] All authentication is disabled.  Anyone who can connect to this server will be able to run code.\n",
      "[I 14:11:52.405 NotebookApp] JupyterLab extension loaded from /opt/conda/lib/python3.6/site-packages/jupyterlab\n",
      "[I 14:11:52.405 NotebookApp] JupyterLab application directory is /opt/conda/share/jupyter/lab\n",
      "[I 14:11:52.407 NotebookApp] Serving notebooks from local directory: /home/jovyan\n",
      "[I 14:11:52.407 NotebookApp] The Jupyter Notebook is running at:\n",
      "[I 14:11:52.407 NotebookApp] http://notebook-0:8888/notebook/anonymous/notebook/\n",
      "[I 14:11:52.407 NotebookApp] Use Control-C to stop this server and shut down all kernels (twice to skip confirmation).\n"
     ]
    }
   ],
   "source": [
    "!kubectl logs notebook-0 --container notebook --namespace anonymous"
   ]
  }
 ],
 "metadata": {
  "kernelspec": {
   "display_name": "conda_python3",
   "language": "python",
   "name": "conda_python3"
  },
  "language_info": {
   "codemirror_mode": {
    "name": "ipython",
    "version": 3
   },
   "file_extension": ".py",
   "mimetype": "text/x-python",
   "name": "python",
   "nbconvert_exporter": "python",
   "pygments_lexer": "ipython3",
   "version": "3.6.13"
  }
 },
 "nbformat": 4,
 "nbformat_minor": 4
}
