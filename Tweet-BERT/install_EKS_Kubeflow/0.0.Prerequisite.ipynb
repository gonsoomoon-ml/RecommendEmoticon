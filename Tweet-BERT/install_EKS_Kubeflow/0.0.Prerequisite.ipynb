{
 "cells": [
  {
   "cell_type": "markdown",
   "metadata": {},
   "source": [
    "## EKS 및 KubeFlow 설치 준비 단계"
   ]
  },
  {
   "cell_type": "markdown",
   "metadata": {},
   "source": [
    "## (1) 세이지 메이커 노트북 인스턴스 설치"
   ]
  },
  {
   "cell_type": "markdown",
   "metadata": {},
   "source": [
    "아래는 \"Data Science on AWS\" 워크샵의 Git 리파지토리 입니다. \n",
    "세이지 메이커 노트북 생성시 아래 네트워크 설정을 참고 하세요<br>\n",
    "여기 --> [Data Science on AWS](https://github.com/data-science-on-aws/workshop)\n",
    "\n",
    "**현재 이 노트북을 열고 있는 SageMaker가 아래 처럼 네트워크와 보안 그룹이 설정이 안되어 있다고 하면\n",
    "SageMaker 노트북을 아래와 같이 설정하여 노트북 인스턴스를 하나 더 생성해시고\n",
    "이후에 아래의 리파지토리를 다운로드 받아 사용하세요**\n",
    "```\n",
    "git clone https://github.com/gonsoomoon-ml/RecommendEmoticon\n",
    "```"
   ]
  },
  {
   "cell_type": "markdown",
   "metadata": {},
   "source": [
    "**SageMaker Notebook을 생성할시에 아래와 같이 네트워크 및 보안 그룹 설정이 꼭 필요합니다.**"
   ]
  },
  {
   "cell_type": "markdown",
   "metadata": {},
   "source": [
    "![sagemaker_notebook_network_setting](img/sagemaker_notebook_network_setting.png)"
   ]
  },
  {
   "cell_type": "markdown",
   "metadata": {},
   "source": [
    "## (2) SageMaker Notebook Instance Role의 권한\n",
    "\n",
    "아래와 같이 권한을 추가 해주세요."
   ]
  },
  {
   "cell_type": "markdown",
   "metadata": {},
   "source": [
    "![SageMakerRolePermissions](img/sagemaker_role_permissions.png)"
   ]
  },
  {
   "cell_type": "markdown",
   "metadata": {},
   "source": [
    "위의 GonsooEKSAdminPolicy 입니다.\n",
    "아래를 인라인정책의 소스로 복사하여 붙여서 사용하세요.\n",
    "```\n",
    "{\n",
    "    \"Version\": \"2012-10-17\",\n",
    "    \"Statement\": [\n",
    "        {\n",
    "            \"Effect\": \"Allow\",\n",
    "            \"Action\": [\n",
    "                \"eks:*\"\n",
    "            ],\n",
    "            \"Resource\": \"*\"\n",
    "        }\n",
    "    ]\n",
    "}\n",
    "```"
   ]
  },
  {
   "cell_type": "markdown",
   "metadata": {},
   "source": [
    "## (3) 이후 부터는 현재 노트북의 00_00 ~ 00_05 까지 실행 해주세요"
   ]
  },
  {
   "cell_type": "code",
   "execution_count": null,
   "metadata": {},
   "outputs": [],
   "source": []
  }
 ],
 "metadata": {
  "kernelspec": {
   "display_name": "conda_python3",
   "language": "python",
   "name": "conda_python3"
  },
  "language_info": {
   "codemirror_mode": {
    "name": "ipython",
    "version": 3
   },
   "file_extension": ".py",
   "mimetype": "text/x-python",
   "name": "python",
   "nbconvert_exporter": "python",
   "pygments_lexer": "ipython3",
   "version": "3.6.13"
  }
 },
 "nbformat": 4,
 "nbformat_minor": 4
}
